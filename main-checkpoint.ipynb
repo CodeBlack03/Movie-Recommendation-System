{
 "cells": [
  {
   "cell_type": "code",
   "execution_count": 1,
   "metadata": {},
   "outputs": [],
   "source": [
    "import numpy as np\n",
    "import pandas as pd\n",
    "from flask import Flask, render_template, request\n",
    "from sklearn.feature_extraction.text import CountVectorizer\n",
    "from sklearn.metrics.pairwise import cosine_similarity\n",
    "import json\n",
    "import bs4 as bs\n",
    "import urllib.request\n",
    "import pickle\n",
    "import requests\n"
   ]
  },
  {
   "cell_type": "code",
   "execution_count": 22,
   "metadata": {},
   "outputs": [
    {
     "name": "stderr",
     "output_type": "stream",
     "text": [
      "C:\\Users\\HARSH VISHWAKARMA\\anaconda3\\lib\\site-packages\\sklearn\\base.py:334: UserWarning: Trying to unpickle estimator MultinomialNB from version 0.22.1 when using version 0.23.2. This might lead to breaking code or invalid results. Use at your own risk.\n",
      "  UserWarning)\n",
      "C:\\Users\\HARSH VISHWAKARMA\\anaconda3\\lib\\site-packages\\sklearn\\base.py:334: UserWarning: Trying to unpickle estimator TfidfTransformer from version 0.22.1 when using version 0.23.2. This might lead to breaking code or invalid results. Use at your own risk.\n",
      "  UserWarning)\n",
      "C:\\Users\\HARSH VISHWAKARMA\\anaconda3\\lib\\site-packages\\sklearn\\base.py:334: UserWarning: Trying to unpickle estimator TfidfVectorizer from version 0.22.1 when using version 0.23.2. This might lead to breaking code or invalid results. Use at your own risk.\n",
      "  UserWarning)\n"
     ]
    }
   ],
   "source": [
    "filename = 'C:/Users/HARSH VISHWAKARMA/Desktop/Movie Recommendation/nlp_model.pkl'\n",
    "clf = pickle.load(open(filename, 'rb'))\n",
    "vectorizer = pickle.load(open('C:/Users/HARSH VISHWAKARMA/Desktop/Movie Recommendation/tranform.pkl','rb'))"
   ]
  },
  {
   "cell_type": "code",
   "execution_count": 23,
   "metadata": {},
   "outputs": [],
   "source": [
    "def create_similarity():\n",
    "    data=pd.read_csv('C:/Users/HARSH VISHWAKARMA/Desktop/Movie Recommendation/data set/main_data.csv')\n",
    "    cv=CountVectorizer()\n",
    "    count_matrix = cv.fit_transform(data['comb'])\n",
    "    #creating a similarity score matrix\n",
    "    similarity=cosine_similarity(count_matrix)\n",
    "    return data,similarity\n",
    "    "
   ]
  },
  {
   "cell_type": "code",
   "execution_count": 27,
   "metadata": {},
   "outputs": [],
   "source": [
    "def recommendMovies(m):# m is the movie name \n",
    "    m=m.lower()\n",
    "    try:\n",
    "        data.head()\n",
    "        similarity.shape\n",
    "    except:\n",
    "        data, similarity=create_similarity()\n",
    "    if m not in data['movie_title'].unique():\n",
    "        \n",
    "        return('Sorry!, Movie not Found')\n",
    "    else:\n",
    "        i=data.loc[data['movie_title']==m].index[0]\n",
    "        lst=list(enumerate(similarity[i]))\n",
    "        lst=sorted(lst,key=lambda x:x[1],reverse=True)\n",
    "        lst=lst[1:11]\n",
    "        l=[]\n",
    "        for i in range(len(lst)):\n",
    "            a=lst[i][0]\n",
    "            l.append(data['movie_title'][a])\n",
    "        return l    \n",
    "        \n",
    "    "
   ]
  },
  {
   "cell_type": "code",
   "execution_count": 29,
   "metadata": {
    "scrolled": true
   },
   "outputs": [
    {
     "data": {
      "text/plain": [
       "'Sorry!, Movie not Found'"
      ]
     },
     "execution_count": 29,
     "metadata": {},
     "output_type": "execute_result"
    }
   ],
   "source": [
    "recommendMovies('DIL CHAHTA HAI')"
   ]
  },
  {
   "cell_type": "code",
   "execution_count": null,
   "metadata": {},
   "outputs": [],
   "source": [
    "#fetched responses will be in form of stringified lists"
   ]
  },
  {
   "cell_type": "code",
   "execution_count": null,
   "metadata": {},
   "outputs": [],
   "source": [
    "def string_to_list(my_list):\n",
    "    my_list = my_list.split('\",\"')\n",
    "    my_list[0]=mylist[0].replace('[\"','')\n",
    "    "
   ]
  }
 ],
 "metadata": {
  "kernelspec": {
   "display_name": "Python 3",
   "language": "python",
   "name": "python3"
  },
  "language_info": {
   "codemirror_mode": {
    "name": "ipython",
    "version": 3
   },
   "file_extension": ".py",
   "mimetype": "text/x-python",
   "name": "python",
   "nbconvert_exporter": "python",
   "pygments_lexer": "ipython3",
   "version": "3.7.6"
  }
 },
 "nbformat": 4,
 "nbformat_minor": 4
}
